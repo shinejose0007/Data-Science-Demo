{
 "cells": [
  {
   "cell_type": "code",
   "execution_count": 7,
   "id": "bf07f114-d48d-456b-be3d-2f5b03c52583",
   "metadata": {},
   "outputs": [
    {
     "ename": "SyntaxError",
     "evalue": "invalid syntax (2012154182.py, line 1)",
     "output_type": "error",
     "traceback": [
      "\u001b[1;36m  Cell \u001b[1;32mIn[7], line 1\u001b[1;36m\u001b[0m\n\u001b[1;33m    python main.py\u001b[0m\n\u001b[1;37m           ^\u001b[0m\n\u001b[1;31mSyntaxError\u001b[0m\u001b[1;31m:\u001b[0m invalid syntax\n"
     ]
    }
   ],
   "source": [
    "python main.py\n",
    "python visualize.py\n"
   ]
  },
  {
   "cell_type": "code",
   "execution_count": 5,
   "id": "adcf1798-d644-4b7f-94f5-c5467ad8de0b",
   "metadata": {},
   "outputs": [
    {
     "name": "stdout",
     "output_type": "stream",
     "text": [
      "Datei nicht gefunden: Weder 'outputs/sample_data.csv' noch 'outputs/data.db' gefunden. Bitte zuerst 'python main.py' oder 'python etl.py' ausführen, um Beispieldaten zu erzeugen.\n"
     ]
    },
    {
     "ename": "FileNotFoundError",
     "evalue": "Weder 'outputs/sample_data.csv' noch 'outputs/data.db' gefunden. Bitte zuerst 'python main.py' oder 'python etl.py' ausführen, um Beispieldaten zu erzeugen.",
     "output_type": "error",
     "traceback": [
      "\u001b[1;31m---------------------------------------------------------------------------\u001b[0m",
      "\u001b[1;31mFileNotFoundError\u001b[0m                         Traceback (most recent call last)",
      "Cell \u001b[1;32mIn[5], line 64\u001b[0m\n\u001b[0;32m     62\u001b[0m out \u001b[38;5;241m=\u001b[39m \u001b[38;5;124m'\u001b[39m\u001b[38;5;124moutputs\u001b[39m\u001b[38;5;124m'\u001b[39m\n\u001b[0;32m     63\u001b[0m \u001b[38;5;28;01mtry\u001b[39;00m:\n\u001b[1;32m---> 64\u001b[0m     df \u001b[38;5;241m=\u001b[39m \u001b[43mload_dataframe\u001b[49m\u001b[43m(\u001b[49m\u001b[43mout_dir\u001b[49m\u001b[38;5;241;43m=\u001b[39;49m\u001b[43mout\u001b[49m\u001b[43m)\u001b[49m\n\u001b[0;32m     65\u001b[0m \u001b[38;5;28;01mexcept\u001b[39;00m \u001b[38;5;167;01mFileNotFoundError\u001b[39;00m \u001b[38;5;28;01mas\u001b[39;00m e:\n\u001b[0;32m     66\u001b[0m     \u001b[38;5;28mprint\u001b[39m(\u001b[38;5;124m\"\u001b[39m\u001b[38;5;124mDatei nicht gefunden:\u001b[39m\u001b[38;5;124m\"\u001b[39m, e)\n",
      "Cell \u001b[1;32mIn[5], line 56\u001b[0m, in \u001b[0;36mload_dataframe\u001b[1;34m(out_dir)\u001b[0m\n\u001b[0;32m     54\u001b[0m         \u001b[38;5;28;01mraise\u001b[39;00m \u001b[38;5;167;01mRuntimeError\u001b[39;00m(\u001b[38;5;124mf\u001b[39m\u001b[38;5;124m\"\u001b[39m\u001b[38;5;124mFehler beim Lesen der SQLite-DB \u001b[39m\u001b[38;5;124m'\u001b[39m\u001b[38;5;132;01m{\u001b[39;00mdb_path\u001b[38;5;132;01m}\u001b[39;00m\u001b[38;5;124m'\u001b[39m\u001b[38;5;124m: \u001b[39m\u001b[38;5;132;01m{\u001b[39;00me\u001b[38;5;132;01m}\u001b[39;00m\u001b[38;5;124m\"\u001b[39m)\n\u001b[0;32m     55\u001b[0m \u001b[38;5;66;03m# 3) Wenn beides fehlt: hilfreiche Fehlermeldung\u001b[39;00m\n\u001b[1;32m---> 56\u001b[0m \u001b[38;5;28;01mraise\u001b[39;00m \u001b[38;5;167;01mFileNotFoundError\u001b[39;00m(\n\u001b[0;32m     57\u001b[0m     \u001b[38;5;124m\"\u001b[39m\u001b[38;5;124mWeder \u001b[39m\u001b[38;5;124m'\u001b[39m\u001b[38;5;124moutputs/sample_data.csv\u001b[39m\u001b[38;5;124m'\u001b[39m\u001b[38;5;124m noch \u001b[39m\u001b[38;5;124m'\u001b[39m\u001b[38;5;124moutputs/data.db\u001b[39m\u001b[38;5;124m'\u001b[39m\u001b[38;5;124m gefunden. \u001b[39m\u001b[38;5;124m\"\u001b[39m\n\u001b[0;32m     58\u001b[0m     \u001b[38;5;124m\"\u001b[39m\u001b[38;5;124mBitte zuerst \u001b[39m\u001b[38;5;124m'\u001b[39m\u001b[38;5;124mpython main.py\u001b[39m\u001b[38;5;124m'\u001b[39m\u001b[38;5;124m oder \u001b[39m\u001b[38;5;124m'\u001b[39m\u001b[38;5;124mpython etl.py\u001b[39m\u001b[38;5;124m'\u001b[39m\u001b[38;5;124m ausführen, um Beispieldaten zu erzeugen.\u001b[39m\u001b[38;5;124m\"\u001b[39m\n\u001b[0;32m     59\u001b[0m )\n",
      "\u001b[1;31mFileNotFoundError\u001b[0m: Weder 'outputs/sample_data.csv' noch 'outputs/data.db' gefunden. Bitte zuerst 'python main.py' oder 'python etl.py' ausführen, um Beispieldaten zu erzeugen."
     ]
    }
   ],
   "source": [
    "# visualize.py (robust, startet ETL falls nötig)\n",
    "import os\n",
    "import json\n",
    "import pandas as pd\n",
    "import matplotlib.pyplot as plt\n",
    "\n",
    "def timeseries_plot(df, out_dir='outputs'):\n",
    "    os.makedirs(os.path.join(out_dir, 'plots'), exist_ok=True)\n",
    "    plt.figure(figsize=(10,4))\n",
    "    plt.plot(df['date'], df['target'], label='target')\n",
    "    plt.title('Zielvariable über Zeit')\n",
    "    plt.xlabel('Datum')\n",
    "    plt.tight_layout()\n",
    "    plt.savefig(os.path.join(out_dir, 'plots', 'timeseries_target.png'))\n",
    "    plt.close()\n",
    "\n",
    "def feature_importance_plot(fi, out_dir='outputs'):\n",
    "    os.makedirs(os.path.join(out_dir, 'plots'), exist_ok=True)\n",
    "    if not fi:\n",
    "        with open(os.path.join(out_dir, 'plots', 'feature_importance_missing.txt'), 'w') as f:\n",
    "            f.write(\"Keine Feature-Importances gefunden.\")\n",
    "        return\n",
    "    items = sorted(fi.items(), key=lambda x: x[1], reverse=True)\n",
    "    names = [i[0] for i in items]\n",
    "    values = [i[1] for i in items]\n",
    "    plt.figure(figsize=(8,4))\n",
    "    plt.bar(range(len(names)), values)\n",
    "    plt.xticks(range(len(names)), names, rotation=45, ha='right')\n",
    "    plt.title('Feature Importances (numeric features approx.)')\n",
    "    plt.tight_layout()\n",
    "    plt.savefig(os.path.join(out_dir, 'plots', 'feature_importance.png'))\n",
    "    plt.close()\n",
    "\n",
    "def load_dataframe(out_dir='outputs'):\n",
    "    csv_path = os.path.join(out_dir, 'sample_data.csv')\n",
    "    db_path = os.path.join(out_dir, 'data.db')\n",
    "    # 1) Versuche CSV\n",
    "    if os.path.exists(csv_path):\n",
    "        try:\n",
    "            df = pd.read_csv(csv_path, parse_dates=['date'])\n",
    "            return df\n",
    "        except Exception as e:\n",
    "            print(f\"Warnung: CSV konnte nicht gelesen werden: {e}\")\n",
    "    # 2) Fallback auf SQLite DB\n",
    "    if os.path.exists(db_path):\n",
    "        try:\n",
    "            import sqlite3\n",
    "            conn = sqlite3.connect(db_path)\n",
    "            df = pd.read_sql_query(\"SELECT * FROM observations\", conn, parse_dates=['date'])\n",
    "            conn.close()\n",
    "            return df\n",
    "        except Exception as e:\n",
    "            print(f\"Warnung: DB konnte nicht gelesen werden: {e}\")\n",
    "    # 3) Wenn beides fehlt: None zurückgeben (Aufrufer entscheidet)\n",
    "    return None\n",
    "\n",
    "if __name__ == '__main__':\n",
    "    out = 'outputs'\n",
    "    df = load_dataframe(out_dir=out)\n",
    "    if df is None:\n",
    "        # keine Outputs vorhanden — ETL automatisch ausführen\n",
    "        try:\n",
    "            print(\"Keine Outputs gefunden — starte ETL (etl.run_etl)...\")\n",
    "            from etl import run_etl\n",
    "        except Exception as e:\n",
    "            raise RuntimeError(\"etl.py nicht gefunden oder importiert: \" + str(e))\n",
    "        df, db_path = run_etl(out_dir=out)\n",
    "        print(\"ETL abgeschlossen.\")\n",
    "    # nun Visualisierungen erstellen\n",
    "    try:\n",
    "        timeseries_plot(df, out_dir=out)\n",
    "        print(\"Timeseries-Plot erstellt:\", os.path.join(out, 'plots', 'timeseries_target.png'))\n",
    "    except Exception as e:\n",
    "        print(\"Fehler beim Timeseries-Plot:\", e)\n",
    "\n",
    "    # metrics.json auslesen, falls vorhanden\n",
    "    metrics_path = os.path.join(out, 'metrics.json')\n",
    "    fi = {}\n",
    "    if os.path.exists(metrics_path):\n",
    "        try:\n",
    "            with open(metrics_path, 'r') as f:\n",
    "                metrics = json.load(f)\n",
    "                fi = metrics.get('feature_importance', {})\n",
    "        except Exception as e:\n",
    "            print(\"Warnung: metrics.json konnte nicht gelesen werden:\", e)\n",
    "\n",
    "    try:\n",
    "        feature_importance_plot(fi, out_dir=out)\n",
    "        if fi:\n",
    "            print(\"Feature-Importance-Plot erstellt:\", os.path.join(out, 'plots', 'feature_importance.png'))\n",
    "    except Exception as e:\n",
    "        print(\"Fehler beim Feature-Importance-Plot:\", e)\n"
   ]
  },
  {
   "cell_type": "code",
   "execution_count": null,
   "id": "97d9f96b-2842-4049-a85d-97135af00c46",
   "metadata": {},
   "outputs": [],
   "source": []
  }
 ],
 "metadata": {
  "kernelspec": {
   "display_name": "Python [conda env:nlp_env]",
   "language": "python",
   "name": "conda-env-nlp_env-py"
  },
  "language_info": {
   "codemirror_mode": {
    "name": "ipython",
    "version": 3
   },
   "file_extension": ".py",
   "mimetype": "text/x-python",
   "name": "python",
   "nbconvert_exporter": "python",
   "pygments_lexer": "ipython3",
   "version": "3.10.16"
  }
 },
 "nbformat": 4,
 "nbformat_minor": 5
}
